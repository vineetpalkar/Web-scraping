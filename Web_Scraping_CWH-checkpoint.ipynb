{
 "cells": [
  {
   "cell_type": "code",
   "execution_count": 1,
   "id": "f94b24f1",
   "metadata": {},
   "outputs": [],
   "source": [
    "#Trying the python code of web scraping of -'code with harry'\n",
    "#Web Scraping Tutorial using Python and BeautifulSoup in Hindi"
   ]
  },
  {
   "cell_type": "code",
   "execution_count": 2,
   "id": "b9356e85",
   "metadata": {},
   "outputs": [],
   "source": [
    "#pip install requests"
   ]
  },
  {
   "cell_type": "code",
   "execution_count": 3,
   "id": "026f1e6f",
   "metadata": {},
   "outputs": [],
   "source": [
    "#pip install html5lib"
   ]
  },
  {
   "cell_type": "code",
   "execution_count": 4,
   "id": "392026df",
   "metadata": {},
   "outputs": [],
   "source": [
    "#pip install bs4"
   ]
  },
  {
   "cell_type": "code",
   "execution_count": 5,
   "id": "f0d0b09d",
   "metadata": {},
   "outputs": [],
   "source": [
    "import requests\n",
    "from bs4 import BeautifulSoup"
   ]
  },
  {
   "cell_type": "code",
   "execution_count": 6,
   "id": "e6b275c8",
   "metadata": {},
   "outputs": [],
   "source": [
    "url= \"https://www.codewithharry.com\"  "
   ]
  },
  {
   "cell_type": "markdown",
   "id": "8a0ffe1a",
   "metadata": {},
   "source": [
    "#Step1: Get the html"
   ]
  },
  {
   "cell_type": "code",
   "execution_count": 7,
   "id": "1202e701",
   "metadata": {},
   "outputs": [],
   "source": [
    "r = requests.get(url)"
   ]
  },
  {
   "cell_type": "code",
   "execution_count": 8,
   "id": "1de10e39",
   "metadata": {},
   "outputs": [],
   "source": [
    "htmlcontent= r.content"
   ]
  },
  {
   "cell_type": "code",
   "execution_count": 9,
   "id": "4c667f26",
   "metadata": {},
   "outputs": [
    {
     "name": "stdout",
     "output_type": "stream",
     "text": [
      "b'<!DOCTYPE html><html lang=\"en\"><head><meta name=\"viewport\" content=\"width=device-width\"/><meta charSet=\"utf-8\"/><script async=\"\" src=\"https://pagead2.googlesyndication.com/pagead/js/adsbygoogle.js?client=ca-pub-9655830461045889\" crossorigin=\"anonymous\"></script><script>(function(w,d,s,l,i){w[l]=w[l]||[];w[l].push({\\'gtm.start\\':\\n        new Date().getTime(),event:\\'gtm.js\\'});var f=d.getElementsByTagName(s)[0],\\n        j=d.createElement(s),dl=l!=\\'dataLayer\\'?\\'&l=\\'+l:\\'\\';j.async=true;j.src=\\n        \\'https://www.googletagmanager.com/gtm.js?id=\\'+i+dl;f.parentNode.insertBefore(j,f);\\n        })(window,document,\\'script\\',\\'dataLayer\\',\\'GTM-MCDDKRF\\');</script><title>Home | CodeWithHarry</title><meta name=\"description\" content=\"Welcome to Code With Harry. Code With Harry is my attempt to teach basics and those coding techniques to people in short time which took me ages to learn.\"/><link rel=\"icon\" href=\"/favicon.ico\"/><meta name=\"next-head-count\" content=\"7\"/><link rel=\"preload\" href=\"/_next/static/css/2e119cd64ea9b38c.css\" as=\"style\"/><link rel=\"stylesheet\" href=\"/_next/static/css/2e119cd64ea9b38c.css\" data-n-g=\"\"/><link rel=\"preload\" href=\"/_next/static/css/39f4d8aba4b66723.css\" as=\"style\"/><link rel=\"stylesheet\" href=\"/_next/static/css/39f4d8aba4b66723.css\" data-n-p=\"\"/><noscript data-n-css=\"\"></noscript><script defer=\"\" nomodule=\"\" src=\"/_next/static/chunks/polyfills-5cd94c89d3acac5f.js\"></script><script src=\"/_next/static/chunks/webpack-2ba32b04834edad7.js\" defer=\"\"></script><script src=\"/_next/static/chunks/framework-91d7f78b5b4003c8.js\" defer=\"\"></script><script src=\"/_next/static/chunks/main-728af1fb3715c9e8.js\" defer=\"\"></script><script src=\"/_next/static/chunks/pages/_app-e814a0ee334e3e68.js\" defer=\"\"></script><script src=\"/_next/static/chunks/pages/index-afddd706d45453a5.js\" defer=\"\"></script><script src=\"/_next/static/YnueEnNo1dlkF92YI3NRh/_buildManifest.js\" defer=\"\"></script><script src=\"/_next/static/YnueEnNo1dlkF92YI3NRh/_ssgManifest.js\" defer=\"\"></script><script src=\"/_next/static/YnueEnNo1dlkF92YI3NRh/_middlewareManifest.js\" defer=\"\"></script></head><body><noscript><iframe src=\"https://www.googletagmanager.com/ns.html?id=GTM-MCDDKRF\" height=\"0\" width=\"0\" style=\"display:none;visibility:hidden\"></iframe></noscript><div id=\"__next\"><div class=\" w-full z-10 sticky bg-white top-0 border-b border-grey-light\"><div class=\"w-full flex flex-wrap items-center lg:justify-between mt-0 py-4 justify-center\"><div class=\" mx-0 px-0 lg:pl-4 flex items-center lg:mx-4\"><span class=\"text-teal-700 no-underline hover:no-underline font-bold text-xl text-purple-800\"><a href=\"/\">CodeWithHarry</a></span></div><div class=\"pr-4 absolute top-1 right-1 pt-3\"><button class=\"lg:hidden flex items-center px-3 py-2 border rounded text-grey border-grey-dark hover:text-black hover:border-purple appearance-none focus:outline-none\"><svg class=\"fill-current h-3 w-3\" viewBox=\"0 0 20 20\" xmlns=\"http://www.w3.org/2000/svg\"><title>Menu</title><path d=\"M0 3h20v2H0V3zm0 6h20v2H0V9zm0 6h20v2H0v-2z\"></path></svg></button></div><div class=\"w-full flex-grow lg:flex lg:flex-1 lg:content-center lg:justify-end lg:w-auto h-0 lg:h-auto overflow-hidden mt-2 lg:mt-0 z-20 transition-all\" id=\"nav-content\"><ul class=\"flex items-center flex-col lg:flex-row\"><div id=\"search-toggle\" class=\"search-icon cursor-pointer px-6 hidden\"><svg class=\"fill-current pointer-events-none text-grey-darkest w-4 h-4 inline\" xmlns=\"http://www.w3.org/2000/svg\" viewBox=\"0 0 20 20\"><path d=\"M12.9 14.32a8 8 0 1 1 1.41-1.41l5.35 5.33-1.42 1.42-5.33-5.34zM8 14A6 6 0 1 0 8 2a6 6 0 0 0 0 12z\"></path></svg></div><li class=\"mx-2 my-2\"><a href=\"/\">Home</a></li><li class=\"mx-2 my-2\"><a href=\"/videos/\">Courses</a></li><li class=\"mx-2 my-2\"><a href=\"/blog/\">Blog</a></li><li class=\"mx-2 my-2\"><a href=\"/contact/\">Contact</a></li></ul><div class=\"text-center my-2 px-4\"><button id=\"login\" class=\"text-white bg-purple-700 hover:bg-purple-800 focus:ring-4 focus:ring-purple-300 font-medium rounded-lg text-sm px-3 py-2 text-center inline-flex items-center mx-1\">Login</button><button id=\"signup\" class=\"text-white bg-purple-700 hover:bg-purple-800 focus:ring-4 focus:ring-purple-300 font-medium rounded-lg text-sm px-3 py-2 text-center inline-flex items-center mx-1\">Signup</button></div></div></div></div><div class=\"relative w-full hidden bg-white shadow-xl\" id=\"search-content\"><div class=\"container mx-auto py-4 text-black\"><input type=\"search\" id=\"searchfield\" placeholder=\"Search...\" autofocus=\"\" class=\"w-full text-grey-800 transition focus:outline-none focus:border-transparent p-2 appearance-none leading-normal text-xl lg:text-2xl\"/></div></div><div class=\"mx-auto my-1\"></div><div class=\"\" style=\"position:fixed;top:0;left:0;height:2px;background:transparent;z-index:99999999999;width:100%\"><div class=\"\" style=\"height:100%;background:purple;transition:all 500ms ease;width:0%\"><div style=\"box-shadow:0 0 10px purple, 0 0 10px purple;width:5%;opacity:1;position:absolute;height:100%;transition:all 500ms ease;transform:rotate(3deg) translate(0px, -4px);left:-10rem\"></div></div></div><div class=\"Home_container__bCOhY\"><div class=\"flex bg-white h-96 container mx-auto\"><div class=\"flex items-center text-center lg:text-left px-8 md:px-12 lg:w-1/2\"><div><h2 class=\"text-3xl font-semibold text-gray-800 md:text-4xl\">Welcome to <span class=\"text-indigo-600\">CodeWithHarry</span></h2><p class=\"mt-2 text-sm text-gray-500 md:text-base\">Confused on which course to take? I have got you covered. Browse courses and find out the best course for you. Its free! Code With Harry is my attempt to teach basics and those coding techniques to people in short time which took me ages to learn.</p><div class=\"flex justify-center lg:justify-start mt-6\"><button class=\"px-3 py-2 lg:px-4 lg:py-3 bg-gray-900 text-gray-200 text-xs font-semibold rounded hover:bg-gray-800\">Free Courses</button><button class=\"px-3 py-2 mx-4 lg:px-4 lg:py-3 bg-gray-300 text-gray-900 text-xs font-semibold rounded hover:bg-gray-400\">Explore Blog</button></div></div></div><div class=\"hidden lg:block lg:w-1/2\" style=\"clip-path:polygon(10% 0, 100% 0%, 100% 100%, 0 100%)\"><div class=\"h-full object-cover\" style=\"background-image:url(https://images.unsplash.com/photo-1498050108023-c5249f4df085?ixlib=rb-1.2.1&amp;ixid=eyJhcHBfaWQiOjEyMDd9&amp;auto=format&amp;fit=crop&amp;w=1352&amp;q=80)\"><div class=\"h-full bg-black opacity-25\"></div></div></div></div><div class=\"container mx-auto lg:my-2\"><h2 class=\"text-3xl font-medium title-font text-gray-900 my-10 text-center\">Recommended Courses</h2><div class=\"flex flex-wrap\"><div class=\"lg:p-4 md:w-1/3 flex justify-center\"><div class=\"max-w-sm rounded-2xl overflow-hidden shadow-lg\"><img class=\"w-full\" src=\"https://codewithharry.nyc3.cdn.digitaloceanspaces.com/assets/e397e136df49495a5586132cdfe9108d.jpg\" alt=\"React Js Tutorials For Beginners\"/><div class=\"px-6 py-4 lg:h-52\"><span class=\"tracking-widest text-xs title-font font-medium text-gray-400 mb-1\">Free Course</span><div class=\"title-font text-lg font-medium text-gray-900 mb-3\"><a href=\"/videos/react-tutorials-in-hindi-1/\">React Js Tutorials For Beginners</a></div><p class=\"text-gray-700 text-base\">React is a free and open-source front-end JavaScript library. This series will cover React from starting to the end. We will learn react from the ground up!</p></div><div class=\"px-6 pt-4 pb-2\"><span class=\"inline-block bg-purple-800 rounded-full px-3 py-2 text-sm font-semibold text-white mr-2 mb-2 hover:bg-purple-600 cursor-pointer\"> Start Watching</span></div></div></div><div class=\"lg:p-4 md:w-1/3 flex justify-center\"><div class=\"max-w-sm rounded-2xl overflow-hidden shadow-lg\"><img class=\"w-full\" src=\"https://codewithharry.nyc3.cdn.digitaloceanspaces.com/assets/b0eef94a68d7ec5c568ff45f9aaacdb1.jpg\" alt=\"Data Structures and Algorithms Course\"/><div class=\"px-6 py-4 lg:h-52\"><span class=\"tracking-widest text-xs title-font font-medium text-gray-400 mb-1\">Free Course</span><div class=\"title-font text-lg font-medium text-gray-900 mb-3\"><a href=\"/videos/data-structures-and-algorithms-in-hindi-1/\">Data Structures and Algorithms Course</a></div><p class=\"text-gray-700 text-base\">Data Structure and Algorithm is one of the most crucial things to learn. This course will give you a complete understanding of Data Structure and its implementation.</p></div><div class=\"px-6 pt-4 pb-2\"><span class=\"inline-block bg-purple-800 rounded-full px-3 py-2 text-sm font-semibold text-white mr-2 mb-2 hover:bg-purple-600 cursor-pointer\"> Start Watching</span></div></div></div><div class=\"lg:p-4 md:w-1/3 flex justify-center\"><div class=\"max-w-sm rounded-2xl overflow-hidden shadow-lg\"><img class=\"w-full\" src=\"https://codewithharry.nyc3.cdn.digitaloceanspaces.com/assets/7d62100f40a8d1a8226b60be2658ced4.jpg\" alt=\"C Language Tutorials For Beginners\"/><div class=\"px-6 py-4 lg:h-52\"><span class=\"tracking-widest text-xs title-font font-medium text-gray-400 mb-1\">Free Course</span><div class=\"title-font text-lg font-medium text-gray-900 mb-3\"><a href=\"/videos/c-language-tutorials-in-hindi-1/\">C Language Tutorials For Beginners</a></div><p class=\"text-gray-700 text-base\">Even if you don&#x27;t know the ABC of coding, start this course, and I can assure you that you&#x27;ll be an intermediate-level coder after completion. Get started with C language.</p></div><div class=\"px-6 pt-4 pb-2\"><span class=\"inline-block bg-purple-800 rounded-full px-3 py-2 text-sm font-semibold text-white mr-2 mb-2 hover:bg-purple-600 cursor-pointer\"> Start Watching</span></div></div></div></div></div><div class=\"container mx-auto\"><section class=\"text-gray-600 body-font\"><div class=\"container px-5 py-12 mx-auto\"><h2 class=\"text-3xl font-medium title-font text-gray-900 mb-12 text-center\">Testimonials</h2><div class=\"flex flex-wrap -m-4\"><div class=\"p-4 md:w-1/2 w-full\"><div class=\"h-full bg-gray-100 p-8 rounded\"><svg xmlns=\"http://www.w3.org/2000/svg\" fill=\"currentColor\" class=\"block w-5 h-5 text-gray-400 mb-4\" viewBox=\"0 0 975.036 975.036\"><path d=\"M925.036 57.197h-304c-27.6 0-50 22.4-50 50v304c0 27.601 22.4 50 50 50h145.5c-1.9 79.601-20.4 143.3-55.4 191.2-27.6 37.8-69.399 69.1-125.3 93.8-25.7 11.3-36.8 41.7-24.8 67.101l36 76c11.6 24.399 40.3 35.1 65.1 24.399 66.2-28.6 122.101-64.8 167.7-108.8 55.601-53.7 93.7-114.3 114.3-181.9 20.601-67.6 30.9-159.8 30.9-276.8v-239c0-27.599-22.401-50-50-50zM106.036 913.497c65.4-28.5 121-64.699 166.9-108.6 56.1-53.7 94.4-114.1 115-181.2 20.6-67.1 30.899-159.6 30.899-277.5v-239c0-27.6-22.399-50-50-50h-304c-27.6 0-50 22.4-50 50v304c0 27.601 22.4 50 50 50h145.5c-1.9 79.601-20.4 143.3-55.4 191.2-27.6 37.8-69.4 69.1-125.3 93.8-25.7 11.3-36.8 41.7-24.8 67.101l35.9 75.8c11.601 24.399 40.501 35.2 65.301 24.399z\"></path></svg><p class=\"leading-relaxed mb-6\">I don&#x27;t have words to thank this man, I&#x27;m really grateful to have this channel and website in my daily routine. If you&#x27;re a mere beginner, then you can trust this guy and can put your time into his content. I can assure you that it&#x27;ll be worth it.</p><span class=\"inline-flex items-center\"><span class=\"flex-grow flex flex-col pl-4\"><span class=\"title-font font-medium text-gray-900\">Mohit Kumar</span><span class=\"text-gray-500 text-sm\">Web Developer</span></span></span></div></div><div class=\"p-4 md:w-1/2 w-full\"><div class=\"h-full bg-gray-100 p-8 rounded\"><svg xmlns=\"http://www.w3.org/2000/svg\" fill=\"currentColor\" class=\"block w-5 h-5 text-gray-400 mb-4\" viewBox=\"0 0 975.036 975.036\"><path d=\"M925.036 57.197h-304c-27.6 0-50 22.4-50 50v304c0 27.601 22.4 50 50 50h145.5c-1.9 79.601-20.4 143.3-55.4 191.2-27.6 37.8-69.399 69.1-125.3 93.8-25.7 11.3-36.8 41.7-24.8 67.101l36 76c11.6 24.399 40.3 35.1 65.1 24.399 66.2-28.6 122.101-64.8 167.7-108.8 55.601-53.7 93.7-114.3 114.3-181.9 20.601-67.6 30.9-159.8 30.9-276.8v-239c0-27.599-22.401-50-50-50zM106.036 913.497c65.4-28.5 121-64.699 166.9-108.6 56.1-53.7 94.4-114.1 115-181.2 20.6-67.1 30.899-159.6 30.899-277.5v-239c0-27.6-22.399-50-50-50h-304c-27.6 0-50 22.4-50 50v304c0 27.601 22.4 50 50 50h145.5c-1.9 79.601-20.4 143.3-55.4 191.2-27.6 37.8-69.4 69.1-125.3 93.8-25.7 11.3-36.8 41.7-24.8 67.101l35.9 75.8c11.601 24.399 40.501 35.2 65.301 24.399z\"></path></svg><p class=\"leading-relaxed mb-6\">For everyone who wants to level up their #Coding and #Dev skills - seriously, this channel is for you! Both basic and advanced stacks are covered on this channel, and one can learn according to his skill levels. And the icing on the cake is, everything is available for free.</p><span class=\"inline-flex items-center\"><span class=\"flex-grow flex flex-col pl-4\"><span class=\"title-font font-medium text-gray-900\">Rakesh Shetty</span><span class=\"text-gray-500 text-sm\">Web Developer</span></span></span></div></div></div></div></section></div></div><div><footer class=\"text-gray-600 body-font mt-8 px-10 bg-purple-50\"><div class=\"px-2 py-4 mx-auto flex items-center sm:flex-row flex-col\"><span class=\"flex title-font font-medium items-center md:justify-start justify-center text-gray-900\"><img src=\"/img/logo-blue.png\" class=\"rounded h-12\"/><span class=\"ml-3 text-xl\">CodeWithHarry</span></span><p class=\"text-sm text-gray-500 sm:ml-4 sm:pl-4 sm:border-l-2 sm:border-gray-200 sm:py-2 sm:mt-0 mt-4 text-center\">Copyright \\xc2\\xa9 2022 CodeWithHarry.com</p><span class=\"inline-flex sm:ml-auto sm:mt-0 mt-4 justify-center sm:justify-start\"><a href=\"https://www.facebook.com/CodeWithHarry/\" target=\"_blank\" rel=\"noreferrer\" class=\"text-gray-500\"><svg fill=\"currentColor\" stroke-linecap=\"round\" stroke-linejoin=\"round\" stroke-width=\"2\" class=\"w-5 h-5\" viewBox=\"0 0 24 24\"><path d=\"M18 2h-3a5 5 0 00-5 5v3H7v4h3v8h4v-8h3l1-4h-4V7a1 1 0 011-1h3z\"></path></svg></a><a href=\"https://www.instagram.com/CodeWithHarry/\" target=\"_blank\" rel=\"noreferrer\" class=\"ml-3 text-gray-500\"><svg fill=\"none\" stroke=\"currentColor\" stroke-linecap=\"round\" stroke-linejoin=\"round\" stroke-width=\"2\" class=\"w-5 h-5\" viewBox=\"0 0 24 24\"><rect width=\"20\" height=\"20\" x=\"2\" y=\"2\" rx=\"5\" ry=\"5\"></rect><path d=\"M16 11.37A4 4 0 1112.63 8 4 4 0 0116 11.37zm1.5-4.87h.01\"></path></svg></a></span></div></footer></div></div><script id=\"__NEXT_DATA__\" type=\"application/json\">{\"props\":{\"pageProps\":{\"url\":\"https://cwh-apis-strapi-c39h9.ondigitalocean.app\",\"courses\":[{\"previewimg\":[{\"_id\":\"61bfeee69c378500110f7b95\",\"name\":\"-mJFZp84TIY-HD.jpg\",\"alternativeText\":\"\",\"caption\":\"\",\"hash\":\"e397e136df49495a5586132cdfe9108d\",\"ext\":\".jpg\",\"mime\":\"image/jpeg\",\"size\":136.08,\"width\":1280,\"height\":720,\"url\":\"https://codewithharry.nyc3.cdn.digitaloceanspaces.com/assets/e397e136df49495a5586132cdfe9108d.jpg\",\"formats\":{\"thumbnail\":{\"name\":\"thumbnail_-mJFZp84TIY-HD.jpg\",\"hash\":\"0b7978d37854c6120d72821d774b1cd1\",\"ext\":\".jpg\",\"mime\":\"image/jpeg\",\"width\":245,\"height\":138,\"size\":11.26,\"path\":null,\"url\":\"https://codewithharry.nyc3.cdn.digitaloceanspaces.com/assets/0b7978d37854c6120d72821d774b1cd1.jpg\"},\"large\":{\"name\":\"large_-mJFZp84TIY-HD.jpg\",\"hash\":\"d4bdfc0e4b2373a42b207fd51dca5319\",\"ext\":\".jpg\",\"mime\":\"image/jpeg\",\"width\":1000,\"height\":563,\"size\":99.75,\"path\":null,\"url\":\"https://codewithharry.nyc3.cdn.digitaloceanspaces.com/assets/d4bdfc0e4b2373a42b207fd51dca5319.jpg\"},\"medium\":{\"name\":\"medium_-mJFZp84TIY-HD.jpg\",\"hash\":\"c9c34e2510d7788d9708ba6f51a17e20\",\"ext\":\".jpg\",\"mime\":\"image/jpeg\",\"width\":750,\"height\":422,\"size\":64.05,\"path\":null,\"url\":\"https://codewithharry.nyc3.cdn.digitaloceanspaces.com/assets/c9c34e2510d7788d9708ba6f51a17e20.jpg\"},\"small\":{\"name\":\"small_-mJFZp84TIY-HD.jpg\",\"hash\":\"f363ed30aaea840602b82448ea5b281c\",\"ext\":\".jpg\",\"mime\":\"image/jpeg\",\"width\":500,\"height\":281,\"size\":34.9,\"path\":null,\"url\":\"https://codewithharry.nyc3.cdn.digitaloceanspaces.com/assets/f363ed30aaea840602b82448ea5b281c.jpg\"}},\"provider\":\"do\",\"related\":[\"61bf15cbb26eda2ecc384ca2\"],\"createdAt\":\"2021-12-20T02:48:06.627Z\",\"updatedAt\":\"2021-12-20T03:18:48.874Z\",\"__v\":0,\"id\":\"61bfeee69c378500110f7b95\"}],\"_id\":\"61bf15cbb26eda2ecc384ca2\",\"title\":\"React Js Tutorials For Beginners\",\"ytplaylistid\":\"PLu0W_9lII9agx66oZnT6IyhcMIbUMNMdt\",\"description\":\"React is a free and open-source front-end JavaScript library. This series will cover React from starting to the end. We will learn react from the ground up!\",\"firstSlug\":\"react-tutorials-in-hindi-1\",\"published_at\":\"2021-12-19T11:21:47.256Z\",\"createdAt\":\"2021-12-19T11:21:47.258Z\",\"updatedAt\":\"2021-12-20T09:02:50.311Z\",\"__v\":0,\"order\":1,\"id\":\"61bf15cbb26eda2ecc384ca2\"},{\"previewimg\":[{\"_id\":\"61bfeee682a25a00115079ae\",\"name\":\"5_5oE5lgrhw-HD.jpg\",\"alternativeText\":\"\",\"caption\":\"\",\"hash\":\"b0eef94a68d7ec5c568ff45f9aaacdb1\",\"ext\":\".jpg\",\"mime\":\"image/jpeg\",\"size\":132.88,\"width\":1280,\"height\":720,\"url\":\"https://codewithharry.nyc3.cdn.digitaloceanspaces.com/assets/b0eef94a68d7ec5c568ff45f9aaacdb1.jpg\",\"formats\":{\"thumbnail\":{\"name\":\"thumbnail_5_5oE5lgrhw-HD.jpg\",\"hash\":\"c1393150100edb24a231b49bead2849d\",\"ext\":\".jpg\",\"mime\":\"image/jpeg\",\"width\":245,\"height\":138,\"size\":13.25,\"path\":null,\"url\":\"https://codewithharry.nyc3.cdn.digitaloceanspaces.com/assets/c1393150100edb24a231b49bead2849d.jpg\"},\"large\":{\"name\":\"large_5_5oE5lgrhw-HD.jpg\",\"hash\":\"385f484cc12657afa192015502077f54\",\"ext\":\".jpg\",\"mime\":\"image/jpeg\",\"width\":1000,\"height\":563,\"size\":100,\"path\":null,\"url\":\"https://codewithharry.nyc3.cdn.digitaloceanspaces.com/assets/385f484cc12657afa192015502077f54.jpg\"},\"medium\":{\"name\":\"medium_5_5oE5lgrhw-HD.jpg\",\"hash\":\"64741d130ed5d167dd8b09661f2fdffd\",\"ext\":\".jpg\",\"mime\":\"image/jpeg\",\"width\":750,\"height\":422,\"size\":66.66,\"path\":null,\"url\":\"https://codewithharry.nyc3.cdn.digitaloceanspaces.com/assets/64741d130ed5d167dd8b09661f2fdffd.jpg\"},\"small\":{\"name\":\"small_5_5oE5lgrhw-HD.jpg\",\"hash\":\"32c4f3675bce0ea0cbec46f6702ba147\",\"ext\":\".jpg\",\"mime\":\"image/jpeg\",\"width\":500,\"height\":281,\"size\":37.27,\"path\":null,\"url\":\"https://codewithharry.nyc3.cdn.digitaloceanspaces.com/assets/32c4f3675bce0ea0cbec46f6702ba147.jpg\"}},\"provider\":\"do\",\"related\":[\"61bf15cbb26eda2ecc384c9e\"],\"createdAt\":\"2021-12-20T02:48:06.761Z\",\"updatedAt\":\"2021-12-20T03:05:03.293Z\",\"__v\":0,\"id\":\"61bfeee682a25a00115079ae\"}],\"_id\":\"61bf15cbb26eda2ecc384c9e\",\"title\":\"Data Structures and Algorithms Course\",\"ytplaylistid\":\"PLu0W_9lII9ahIappRPN0MCAgtOu3lQjQi\",\"description\":\"Data Structure and Algorithm is one of the most crucial things to learn. This course will give you a complete understanding of Data Structure and its implementation.\",\"firstSlug\":\"data-structures-and-algorithms-in-hindi-1\",\"published_at\":\"2021-12-19T11:21:47.255Z\",\"createdAt\":\"2021-12-19T11:21:47.258Z\",\"updatedAt\":\"2021-12-20T09:02:59.163Z\",\"__v\":0,\"order\":2,\"id\":\"61bf15cbb26eda2ecc384c9e\"},{\"previewimg\":[{\"_id\":\"61bfeee59c378500110f7b92\",\"name\":\"7Dh73z3icd8-HD.jpg\",\"alternativeText\":\"\",\"caption\":\"\",\"hash\":\"7d62100f40a8d1a8226b60be2658ced4\",\"ext\":\".jpg\",\"mime\":\"image/jpeg\",\"size\":121.37,\"width\":1280,\"height\":720,\"url\":\"https://codewithharry.nyc3.cdn.digitaloceanspaces.com/assets/7d62100f40a8d1a8226b60be2658ced4.jpg\",\"formats\":{\"thumbnail\":{\"name\":\"thumbnail_7Dh73z3icd8-HD.jpg\",\"hash\":\"e773da313e7230add86a795a20deb237\",\"ext\":\".jpg\",\"mime\":\"image/jpeg\",\"width\":245,\"height\":138,\"size\":11.91,\"path\":null,\"url\":\"https://codewithharry.nyc3.cdn.digitaloceanspaces.com/assets/e773da313e7230add86a795a20deb237.jpg\"},\"large\":{\"name\":\"large_7Dh73z3icd8-HD.jpg\",\"hash\":\"48f502e45c4c78a409c2c63bd2db1226\",\"ext\":\".jpg\",\"mime\":\"image/jpeg\",\"width\":1000,\"height\":563,\"size\":90.72,\"path\":null,\"url\":\"https://codewithharry.nyc3.cdn.digitaloceanspaces.com/assets/48f502e45c4c78a409c2c63bd2db1226.jpg\"},\"medium\":{\"name\":\"medium_7Dh73z3icd8-HD.jpg\",\"hash\":\"d49b316813748a9dae8f7ab0411d9fb6\",\"ext\":\".jpg\",\"mime\":\"image/jpeg\",\"width\":750,\"height\":422,\"size\":59.61,\"path\":null,\"url\":\"https://codewithharry.nyc3.cdn.digitaloceanspaces.com/assets/d49b316813748a9dae8f7ab0411d9fb6.jpg\"},\"small\":{\"name\":\"small_7Dh73z3icd8-HD.jpg\",\"hash\":\"bced621bf18266ea683bfb0a7bca0588\",\"ext\":\".jpg\",\"mime\":\"image/jpeg\",\"width\":500,\"height\":281,\"size\":33.05,\"path\":null,\"url\":\"https://codewithharry.nyc3.cdn.digitaloceanspaces.com/assets/bced621bf18266ea683bfb0a7bca0588.jpg\"}},\"provider\":\"do\",\"related\":[\"61bf15cbb26eda2ecc384c97\"],\"createdAt\":\"2021-12-20T02:48:05.802Z\",\"updatedAt\":\"2021-12-20T02:54:10.243Z\",\"__v\":0,\"id\":\"61bfeee59c378500110f7b92\"}],\"_id\":\"61bf15cbb26eda2ecc384c97\",\"title\":\"C Language Tutorials For Beginners\",\"ytplaylistid\":\"PLu0W_9lII9aiXlHcLx-mDH1Qul38wD3aR\",\"description\":\"Even if you don\\'t know the ABC of coding, start this course, and I can assure you that you\\'ll be an intermediate-level coder after completion. Get started with C language.\",\"firstSlug\":\"c-language-tutorials-in-hindi-1\",\"published_at\":\"2021-12-19T11:21:47.254Z\",\"createdAt\":\"2021-12-19T11:21:47.258Z\",\"updatedAt\":\"2021-12-20T09:03:11.449Z\",\"__v\":0,\"order\":3,\"id\":\"61bf15cbb26eda2ecc384c97\"}]},\"__N_SSG\":true},\"page\":\"/\",\"query\":{},\"buildId\":\"YnueEnNo1dlkF92YI3NRh\",\"isFallback\":false,\"gsp\":true,\"scriptLoader\":[]}</script></body></html>'\n"
     ]
    }
   ],
   "source": [
    "print(htmlcontent)"
   ]
  },
  {
   "cell_type": "markdown",
   "id": "9e78f56b",
   "metadata": {},
   "source": [
    "Step2: Parse the HTML"
   ]
  },
  {
   "cell_type": "code",
   "execution_count": 10,
   "id": "87e5736d",
   "metadata": {},
   "outputs": [],
   "source": [
    "soup = BeautifulSoup(htmlcontent, 'html.parser')"
   ]
  },
  {
   "cell_type": "code",
   "execution_count": 11,
   "id": "0b72bd93",
   "metadata": {},
   "outputs": [
    {
     "name": "stdout",
     "output_type": "stream",
     "text": [
      "<bound method Tag.prettify of <!DOCTYPE html>\n",
      "<html lang=\"en\"><head><meta content=\"width=device-width\" name=\"viewport\"/><meta charset=\"utf-8\"/><script async=\"\" crossorigin=\"anonymous\" src=\"https://pagead2.googlesyndication.com/pagead/js/adsbygoogle.js?client=ca-pub-9655830461045889\"></script><script>(function(w,d,s,l,i){w[l]=w[l]||[];w[l].push({'gtm.start':\n",
      "        new Date().getTime(),event:'gtm.js'});var f=d.getElementsByTagName(s)[0],\n",
      "        j=d.createElement(s),dl=l!='dataLayer'?'&l='+l:'';j.async=true;j.src=\n",
      "        'https://www.googletagmanager.com/gtm.js?id='+i+dl;f.parentNode.insertBefore(j,f);\n",
      "        })(window,document,'script','dataLayer','GTM-MCDDKRF');</script><title>Home | CodeWithHarry</title><meta content=\"Welcome to Code With Harry. Code With Harry is my attempt to teach basics and those coding techniques to people in short time which took me ages to learn.\" name=\"description\"/><link href=\"/favicon.ico\" rel=\"icon\"/><meta content=\"7\" name=\"next-head-count\"/><link as=\"style\" href=\"/_next/static/css/2e119cd64ea9b38c.css\" rel=\"preload\"/><link data-n-g=\"\" href=\"/_next/static/css/2e119cd64ea9b38c.css\" rel=\"stylesheet\"/><link as=\"style\" href=\"/_next/static/css/39f4d8aba4b66723.css\" rel=\"preload\"/><link data-n-p=\"\" href=\"/_next/static/css/39f4d8aba4b66723.css\" rel=\"stylesheet\"/><noscript data-n-css=\"\"></noscript><script defer=\"\" nomodule=\"\" src=\"/_next/static/chunks/polyfills-5cd94c89d3acac5f.js\"></script><script defer=\"\" src=\"/_next/static/chunks/webpack-2ba32b04834edad7.js\"></script><script defer=\"\" src=\"/_next/static/chunks/framework-91d7f78b5b4003c8.js\"></script><script defer=\"\" src=\"/_next/static/chunks/main-728af1fb3715c9e8.js\"></script><script defer=\"\" src=\"/_next/static/chunks/pages/_app-e814a0ee334e3e68.js\"></script><script defer=\"\" src=\"/_next/static/chunks/pages/index-afddd706d45453a5.js\"></script><script defer=\"\" src=\"/_next/static/YnueEnNo1dlkF92YI3NRh/_buildManifest.js\"></script><script defer=\"\" src=\"/_next/static/YnueEnNo1dlkF92YI3NRh/_ssgManifest.js\"></script><script defer=\"\" src=\"/_next/static/YnueEnNo1dlkF92YI3NRh/_middlewareManifest.js\"></script></head><body><noscript><iframe height=\"0\" src=\"https://www.googletagmanager.com/ns.html?id=GTM-MCDDKRF\" style=\"display:none;visibility:hidden\" width=\"0\"></iframe></noscript><div id=\"__next\"><div class=\"w-full z-10 sticky bg-white top-0 border-b border-grey-light\"><div class=\"w-full flex flex-wrap items-center lg:justify-between mt-0 py-4 justify-center\"><div class=\"mx-0 px-0 lg:pl-4 flex items-center lg:mx-4\"><span class=\"text-teal-700 no-underline hover:no-underline font-bold text-xl text-purple-800\"><a href=\"/\">CodeWithHarry</a></span></div><div class=\"pr-4 absolute top-1 right-1 pt-3\"><button class=\"lg:hidden flex items-center px-3 py-2 border rounded text-grey border-grey-dark hover:text-black hover:border-purple appearance-none focus:outline-none\"><svg class=\"fill-current h-3 w-3\" viewbox=\"0 0 20 20\" xmlns=\"http://www.w3.org/2000/svg\"><title>Menu</title><path d=\"M0 3h20v2H0V3zm0 6h20v2H0V9zm0 6h20v2H0v-2z\"></path></svg></button></div><div class=\"w-full flex-grow lg:flex lg:flex-1 lg:content-center lg:justify-end lg:w-auto h-0 lg:h-auto overflow-hidden mt-2 lg:mt-0 z-20 transition-all\" id=\"nav-content\"><ul class=\"flex items-center flex-col lg:flex-row\"><div class=\"search-icon cursor-pointer px-6 hidden\" id=\"search-toggle\"><svg class=\"fill-current pointer-events-none text-grey-darkest w-4 h-4 inline\" viewbox=\"0 0 20 20\" xmlns=\"http://www.w3.org/2000/svg\"><path d=\"M12.9 14.32a8 8 0 1 1 1.41-1.41l5.35 5.33-1.42 1.42-5.33-5.34zM8 14A6 6 0 1 0 8 2a6 6 0 0 0 0 12z\"></path></svg></div><li class=\"mx-2 my-2\"><a href=\"/\">Home</a></li><li class=\"mx-2 my-2\"><a href=\"/videos/\">Courses</a></li><li class=\"mx-2 my-2\"><a href=\"/blog/\">Blog</a></li><li class=\"mx-2 my-2\"><a href=\"/contact/\">Contact</a></li></ul><div class=\"text-center my-2 px-4\"><button class=\"text-white bg-purple-700 hover:bg-purple-800 focus:ring-4 focus:ring-purple-300 font-medium rounded-lg text-sm px-3 py-2 text-center inline-flex items-center mx-1\" id=\"login\">Login</button><button class=\"text-white bg-purple-700 hover:bg-purple-800 focus:ring-4 focus:ring-purple-300 font-medium rounded-lg text-sm px-3 py-2 text-center inline-flex items-center mx-1\" id=\"signup\">Signup</button></div></div></div></div><div class=\"relative w-full hidden bg-white shadow-xl\" id=\"search-content\"><div class=\"container mx-auto py-4 text-black\"><input autofocus=\"\" class=\"w-full text-grey-800 transition focus:outline-none focus:border-transparent p-2 appearance-none leading-normal text-xl lg:text-2xl\" id=\"searchfield\" placeholder=\"Search...\" type=\"search\"/></div></div><div class=\"mx-auto my-1\"></div><div class=\"\" style=\"position:fixed;top:0;left:0;height:2px;background:transparent;z-index:99999999999;width:100%\"><div class=\"\" style=\"height:100%;background:purple;transition:all 500ms ease;width:0%\"><div style=\"box-shadow:0 0 10px purple, 0 0 10px purple;width:5%;opacity:1;position:absolute;height:100%;transition:all 500ms ease;transform:rotate(3deg) translate(0px, -4px);left:-10rem\"></div></div></div><div class=\"Home_container__bCOhY\"><div class=\"flex bg-white h-96 container mx-auto\"><div class=\"flex items-center text-center lg:text-left px-8 md:px-12 lg:w-1/2\"><div><h2 class=\"text-3xl font-semibold text-gray-800 md:text-4xl\">Welcome to <span class=\"text-indigo-600\">CodeWithHarry</span></h2><p class=\"mt-2 text-sm text-gray-500 md:text-base\">Confused on which course to take? I have got you covered. Browse courses and find out the best course for you. Its free! Code With Harry is my attempt to teach basics and those coding techniques to people in short time which took me ages to learn.</p><div class=\"flex justify-center lg:justify-start mt-6\"><button class=\"px-3 py-2 lg:px-4 lg:py-3 bg-gray-900 text-gray-200 text-xs font-semibold rounded hover:bg-gray-800\">Free Courses</button><button class=\"px-3 py-2 mx-4 lg:px-4 lg:py-3 bg-gray-300 text-gray-900 text-xs font-semibold rounded hover:bg-gray-400\">Explore Blog</button></div></div></div><div class=\"hidden lg:block lg:w-1/2\" style=\"clip-path:polygon(10% 0, 100% 0%, 100% 100%, 0 100%)\"><div class=\"h-full object-cover\" style=\"background-image:url(https://images.unsplash.com/photo-1498050108023-c5249f4df085?ixlib=rb-1.2.1&amp;ixid=eyJhcHBfaWQiOjEyMDd9&amp;auto=format&amp;fit=crop&amp;w=1352&amp;q=80)\"><div class=\"h-full bg-black opacity-25\"></div></div></div></div><div class=\"container mx-auto lg:my-2\"><h2 class=\"text-3xl font-medium title-font text-gray-900 my-10 text-center\">Recommended Courses</h2><div class=\"flex flex-wrap\"><div class=\"lg:p-4 md:w-1/3 flex justify-center\"><div class=\"max-w-sm rounded-2xl overflow-hidden shadow-lg\"><img alt=\"React Js Tutorials For Beginners\" class=\"w-full\" src=\"https://codewithharry.nyc3.cdn.digitaloceanspaces.com/assets/e397e136df49495a5586132cdfe9108d.jpg\"/><div class=\"px-6 py-4 lg:h-52\"><span class=\"tracking-widest text-xs title-font font-medium text-gray-400 mb-1\">Free Course</span><div class=\"title-font text-lg font-medium text-gray-900 mb-3\"><a href=\"/videos/react-tutorials-in-hindi-1/\">React Js Tutorials For Beginners</a></div><p class=\"text-gray-700 text-base\">React is a free and open-source front-end JavaScript library. This series will cover React from starting to the end. We will learn react from the ground up!</p></div><div class=\"px-6 pt-4 pb-2\"><span class=\"inline-block bg-purple-800 rounded-full px-3 py-2 text-sm font-semibold text-white mr-2 mb-2 hover:bg-purple-600 cursor-pointer\"> Start Watching</span></div></div></div><div class=\"lg:p-4 md:w-1/3 flex justify-center\"><div class=\"max-w-sm rounded-2xl overflow-hidden shadow-lg\"><img alt=\"Data Structures and Algorithms Course\" class=\"w-full\" src=\"https://codewithharry.nyc3.cdn.digitaloceanspaces.com/assets/b0eef94a68d7ec5c568ff45f9aaacdb1.jpg\"/><div class=\"px-6 py-4 lg:h-52\"><span class=\"tracking-widest text-xs title-font font-medium text-gray-400 mb-1\">Free Course</span><div class=\"title-font text-lg font-medium text-gray-900 mb-3\"><a href=\"/videos/data-structures-and-algorithms-in-hindi-1/\">Data Structures and Algorithms Course</a></div><p class=\"text-gray-700 text-base\">Data Structure and Algorithm is one of the most crucial things to learn. This course will give you a complete understanding of Data Structure and its implementation.</p></div><div class=\"px-6 pt-4 pb-2\"><span class=\"inline-block bg-purple-800 rounded-full px-3 py-2 text-sm font-semibold text-white mr-2 mb-2 hover:bg-purple-600 cursor-pointer\"> Start Watching</span></div></div></div><div class=\"lg:p-4 md:w-1/3 flex justify-center\"><div class=\"max-w-sm rounded-2xl overflow-hidden shadow-lg\"><img alt=\"C Language Tutorials For Beginners\" class=\"w-full\" src=\"https://codewithharry.nyc3.cdn.digitaloceanspaces.com/assets/7d62100f40a8d1a8226b60be2658ced4.jpg\"/><div class=\"px-6 py-4 lg:h-52\"><span class=\"tracking-widest text-xs title-font font-medium text-gray-400 mb-1\">Free Course</span><div class=\"title-font text-lg font-medium text-gray-900 mb-3\"><a href=\"/videos/c-language-tutorials-in-hindi-1/\">C Language Tutorials For Beginners</a></div><p class=\"text-gray-700 text-base\">Even if you don't know the ABC of coding, start this course, and I can assure you that you'll be an intermediate-level coder after completion. Get started with C language.</p></div><div class=\"px-6 pt-4 pb-2\"><span class=\"inline-block bg-purple-800 rounded-full px-3 py-2 text-sm font-semibold text-white mr-2 mb-2 hover:bg-purple-600 cursor-pointer\"> Start Watching</span></div></div></div></div></div><div class=\"container mx-auto\"><section class=\"text-gray-600 body-font\"><div class=\"container px-5 py-12 mx-auto\"><h2 class=\"text-3xl font-medium title-font text-gray-900 mb-12 text-center\">Testimonials</h2><div class=\"flex flex-wrap -m-4\"><div class=\"p-4 md:w-1/2 w-full\"><div class=\"h-full bg-gray-100 p-8 rounded\"><svg class=\"block w-5 h-5 text-gray-400 mb-4\" fill=\"currentColor\" viewbox=\"0 0 975.036 975.036\" xmlns=\"http://www.w3.org/2000/svg\"><path d=\"M925.036 57.197h-304c-27.6 0-50 22.4-50 50v304c0 27.601 22.4 50 50 50h145.5c-1.9 79.601-20.4 143.3-55.4 191.2-27.6 37.8-69.399 69.1-125.3 93.8-25.7 11.3-36.8 41.7-24.8 67.101l36 76c11.6 24.399 40.3 35.1 65.1 24.399 66.2-28.6 122.101-64.8 167.7-108.8 55.601-53.7 93.7-114.3 114.3-181.9 20.601-67.6 30.9-159.8 30.9-276.8v-239c0-27.599-22.401-50-50-50zM106.036 913.497c65.4-28.5 121-64.699 166.9-108.6 56.1-53.7 94.4-114.1 115-181.2 20.6-67.1 30.899-159.6 30.899-277.5v-239c0-27.6-22.399-50-50-50h-304c-27.6 0-50 22.4-50 50v304c0 27.601 22.4 50 50 50h145.5c-1.9 79.601-20.4 143.3-55.4 191.2-27.6 37.8-69.4 69.1-125.3 93.8-25.7 11.3-36.8 41.7-24.8 67.101l35.9 75.8c11.601 24.399 40.501 35.2 65.301 24.399z\"></path></svg><p class=\"leading-relaxed mb-6\">I don't have words to thank this man, I'm really grateful to have this channel and website in my daily routine. If you're a mere beginner, then you can trust this guy and can put your time into his content. I can assure you that it'll be worth it.</p><span class=\"inline-flex items-center\"><span class=\"flex-grow flex flex-col pl-4\"><span class=\"title-font font-medium text-gray-900\">Mohit Kumar</span><span class=\"text-gray-500 text-sm\">Web Developer</span></span></span></div></div><div class=\"p-4 md:w-1/2 w-full\"><div class=\"h-full bg-gray-100 p-8 rounded\"><svg class=\"block w-5 h-5 text-gray-400 mb-4\" fill=\"currentColor\" viewbox=\"0 0 975.036 975.036\" xmlns=\"http://www.w3.org/2000/svg\"><path d=\"M925.036 57.197h-304c-27.6 0-50 22.4-50 50v304c0 27.601 22.4 50 50 50h145.5c-1.9 79.601-20.4 143.3-55.4 191.2-27.6 37.8-69.399 69.1-125.3 93.8-25.7 11.3-36.8 41.7-24.8 67.101l36 76c11.6 24.399 40.3 35.1 65.1 24.399 66.2-28.6 122.101-64.8 167.7-108.8 55.601-53.7 93.7-114.3 114.3-181.9 20.601-67.6 30.9-159.8 30.9-276.8v-239c0-27.599-22.401-50-50-50zM106.036 913.497c65.4-28.5 121-64.699 166.9-108.6 56.1-53.7 94.4-114.1 115-181.2 20.6-67.1 30.899-159.6 30.899-277.5v-239c0-27.6-22.399-50-50-50h-304c-27.6 0-50 22.4-50 50v304c0 27.601 22.4 50 50 50h145.5c-1.9 79.601-20.4 143.3-55.4 191.2-27.6 37.8-69.4 69.1-125.3 93.8-25.7 11.3-36.8 41.7-24.8 67.101l35.9 75.8c11.601 24.399 40.501 35.2 65.301 24.399z\"></path></svg><p class=\"leading-relaxed mb-6\">For everyone who wants to level up their #Coding and #Dev skills - seriously, this channel is for you! Both basic and advanced stacks are covered on this channel, and one can learn according to his skill levels. And the icing on the cake is, everything is available for free.</p><span class=\"inline-flex items-center\"><span class=\"flex-grow flex flex-col pl-4\"><span class=\"title-font font-medium text-gray-900\">Rakesh Shetty</span><span class=\"text-gray-500 text-sm\">Web Developer</span></span></span></div></div></div></div></section></div></div><div><footer class=\"text-gray-600 body-font mt-8 px-10 bg-purple-50\"><div class=\"px-2 py-4 mx-auto flex items-center sm:flex-row flex-col\"><span class=\"flex title-font font-medium items-center md:justify-start justify-center text-gray-900\"><img class=\"rounded h-12\" src=\"/img/logo-blue.png\"/><span class=\"ml-3 text-xl\">CodeWithHarry</span></span><p class=\"text-sm text-gray-500 sm:ml-4 sm:pl-4 sm:border-l-2 sm:border-gray-200 sm:py-2 sm:mt-0 mt-4 text-center\">Copyright © 2022 CodeWithHarry.com</p><span class=\"inline-flex sm:ml-auto sm:mt-0 mt-4 justify-center sm:justify-start\"><a class=\"text-gray-500\" href=\"https://www.facebook.com/CodeWithHarry/\" rel=\"noreferrer\" target=\"_blank\"><svg class=\"w-5 h-5\" fill=\"currentColor\" stroke-linecap=\"round\" stroke-linejoin=\"round\" stroke-width=\"2\" viewbox=\"0 0 24 24\"><path d=\"M18 2h-3a5 5 0 00-5 5v3H7v4h3v8h4v-8h3l1-4h-4V7a1 1 0 011-1h3z\"></path></svg></a><a class=\"ml-3 text-gray-500\" href=\"https://www.instagram.com/CodeWithHarry/\" rel=\"noreferrer\" target=\"_blank\"><svg class=\"w-5 h-5\" fill=\"none\" stroke=\"currentColor\" stroke-linecap=\"round\" stroke-linejoin=\"round\" stroke-width=\"2\" viewbox=\"0 0 24 24\"><rect height=\"20\" rx=\"5\" ry=\"5\" width=\"20\" x=\"2\" y=\"2\"></rect><path d=\"M16 11.37A4 4 0 1112.63 8 4 4 0 0116 11.37zm1.5-4.87h.01\"></path></svg></a></span></div></footer></div></div><script id=\"__NEXT_DATA__\" type=\"application/json\">{\"props\":{\"pageProps\":{\"url\":\"https://cwh-apis-strapi-c39h9.ondigitalocean.app\",\"courses\":[{\"previewimg\":[{\"_id\":\"61bfeee69c378500110f7b95\",\"name\":\"-mJFZp84TIY-HD.jpg\",\"alternativeText\":\"\",\"caption\":\"\",\"hash\":\"e397e136df49495a5586132cdfe9108d\",\"ext\":\".jpg\",\"mime\":\"image/jpeg\",\"size\":136.08,\"width\":1280,\"height\":720,\"url\":\"https://codewithharry.nyc3.cdn.digitaloceanspaces.com/assets/e397e136df49495a5586132cdfe9108d.jpg\",\"formats\":{\"thumbnail\":{\"name\":\"thumbnail_-mJFZp84TIY-HD.jpg\",\"hash\":\"0b7978d37854c6120d72821d774b1cd1\",\"ext\":\".jpg\",\"mime\":\"image/jpeg\",\"width\":245,\"height\":138,\"size\":11.26,\"path\":null,\"url\":\"https://codewithharry.nyc3.cdn.digitaloceanspaces.com/assets/0b7978d37854c6120d72821d774b1cd1.jpg\"},\"large\":{\"name\":\"large_-mJFZp84TIY-HD.jpg\",\"hash\":\"d4bdfc0e4b2373a42b207fd51dca5319\",\"ext\":\".jpg\",\"mime\":\"image/jpeg\",\"width\":1000,\"height\":563,\"size\":99.75,\"path\":null,\"url\":\"https://codewithharry.nyc3.cdn.digitaloceanspaces.com/assets/d4bdfc0e4b2373a42b207fd51dca5319.jpg\"},\"medium\":{\"name\":\"medium_-mJFZp84TIY-HD.jpg\",\"hash\":\"c9c34e2510d7788d9708ba6f51a17e20\",\"ext\":\".jpg\",\"mime\":\"image/jpeg\",\"width\":750,\"height\":422,\"size\":64.05,\"path\":null,\"url\":\"https://codewithharry.nyc3.cdn.digitaloceanspaces.com/assets/c9c34e2510d7788d9708ba6f51a17e20.jpg\"},\"small\":{\"name\":\"small_-mJFZp84TIY-HD.jpg\",\"hash\":\"f363ed30aaea840602b82448ea5b281c\",\"ext\":\".jpg\",\"mime\":\"image/jpeg\",\"width\":500,\"height\":281,\"size\":34.9,\"path\":null,\"url\":\"https://codewithharry.nyc3.cdn.digitaloceanspaces.com/assets/f363ed30aaea840602b82448ea5b281c.jpg\"}},\"provider\":\"do\",\"related\":[\"61bf15cbb26eda2ecc384ca2\"],\"createdAt\":\"2021-12-20T02:48:06.627Z\",\"updatedAt\":\"2021-12-20T03:18:48.874Z\",\"__v\":0,\"id\":\"61bfeee69c378500110f7b95\"}],\"_id\":\"61bf15cbb26eda2ecc384ca2\",\"title\":\"React Js Tutorials For Beginners\",\"ytplaylistid\":\"PLu0W_9lII9agx66oZnT6IyhcMIbUMNMdt\",\"description\":\"React is a free and open-source front-end JavaScript library. This series will cover React from starting to the end. We will learn react from the ground up!\",\"firstSlug\":\"react-tutorials-in-hindi-1\",\"published_at\":\"2021-12-19T11:21:47.256Z\",\"createdAt\":\"2021-12-19T11:21:47.258Z\",\"updatedAt\":\"2021-12-20T09:02:50.311Z\",\"__v\":0,\"order\":1,\"id\":\"61bf15cbb26eda2ecc384ca2\"},{\"previewimg\":[{\"_id\":\"61bfeee682a25a00115079ae\",\"name\":\"5_5oE5lgrhw-HD.jpg\",\"alternativeText\":\"\",\"caption\":\"\",\"hash\":\"b0eef94a68d7ec5c568ff45f9aaacdb1\",\"ext\":\".jpg\",\"mime\":\"image/jpeg\",\"size\":132.88,\"width\":1280,\"height\":720,\"url\":\"https://codewithharry.nyc3.cdn.digitaloceanspaces.com/assets/b0eef94a68d7ec5c568ff45f9aaacdb1.jpg\",\"formats\":{\"thumbnail\":{\"name\":\"thumbnail_5_5oE5lgrhw-HD.jpg\",\"hash\":\"c1393150100edb24a231b49bead2849d\",\"ext\":\".jpg\",\"mime\":\"image/jpeg\",\"width\":245,\"height\":138,\"size\":13.25,\"path\":null,\"url\":\"https://codewithharry.nyc3.cdn.digitaloceanspaces.com/assets/c1393150100edb24a231b49bead2849d.jpg\"},\"large\":{\"name\":\"large_5_5oE5lgrhw-HD.jpg\",\"hash\":\"385f484cc12657afa192015502077f54\",\"ext\":\".jpg\",\"mime\":\"image/jpeg\",\"width\":1000,\"height\":563,\"size\":100,\"path\":null,\"url\":\"https://codewithharry.nyc3.cdn.digitaloceanspaces.com/assets/385f484cc12657afa192015502077f54.jpg\"},\"medium\":{\"name\":\"medium_5_5oE5lgrhw-HD.jpg\",\"hash\":\"64741d130ed5d167dd8b09661f2fdffd\",\"ext\":\".jpg\",\"mime\":\"image/jpeg\",\"width\":750,\"height\":422,\"size\":66.66,\"path\":null,\"url\":\"https://codewithharry.nyc3.cdn.digitaloceanspaces.com/assets/64741d130ed5d167dd8b09661f2fdffd.jpg\"},\"small\":{\"name\":\"small_5_5oE5lgrhw-HD.jpg\",\"hash\":\"32c4f3675bce0ea0cbec46f6702ba147\",\"ext\":\".jpg\",\"mime\":\"image/jpeg\",\"width\":500,\"height\":281,\"size\":37.27,\"path\":null,\"url\":\"https://codewithharry.nyc3.cdn.digitaloceanspaces.com/assets/32c4f3675bce0ea0cbec46f6702ba147.jpg\"}},\"provider\":\"do\",\"related\":[\"61bf15cbb26eda2ecc384c9e\"],\"createdAt\":\"2021-12-20T02:48:06.761Z\",\"updatedAt\":\"2021-12-20T03:05:03.293Z\",\"__v\":0,\"id\":\"61bfeee682a25a00115079ae\"}],\"_id\":\"61bf15cbb26eda2ecc384c9e\",\"title\":\"Data Structures and Algorithms Course\",\"ytplaylistid\":\"PLu0W_9lII9ahIappRPN0MCAgtOu3lQjQi\",\"description\":\"Data Structure and Algorithm is one of the most crucial things to learn. This course will give you a complete understanding of Data Structure and its implementation.\",\"firstSlug\":\"data-structures-and-algorithms-in-hindi-1\",\"published_at\":\"2021-12-19T11:21:47.255Z\",\"createdAt\":\"2021-12-19T11:21:47.258Z\",\"updatedAt\":\"2021-12-20T09:02:59.163Z\",\"__v\":0,\"order\":2,\"id\":\"61bf15cbb26eda2ecc384c9e\"},{\"previewimg\":[{\"_id\":\"61bfeee59c378500110f7b92\",\"name\":\"7Dh73z3icd8-HD.jpg\",\"alternativeText\":\"\",\"caption\":\"\",\"hash\":\"7d62100f40a8d1a8226b60be2658ced4\",\"ext\":\".jpg\",\"mime\":\"image/jpeg\",\"size\":121.37,\"width\":1280,\"height\":720,\"url\":\"https://codewithharry.nyc3.cdn.digitaloceanspaces.com/assets/7d62100f40a8d1a8226b60be2658ced4.jpg\",\"formats\":{\"thumbnail\":{\"name\":\"thumbnail_7Dh73z3icd8-HD.jpg\",\"hash\":\"e773da313e7230add86a795a20deb237\",\"ext\":\".jpg\",\"mime\":\"image/jpeg\",\"width\":245,\"height\":138,\"size\":11.91,\"path\":null,\"url\":\"https://codewithharry.nyc3.cdn.digitaloceanspaces.com/assets/e773da313e7230add86a795a20deb237.jpg\"},\"large\":{\"name\":\"large_7Dh73z3icd8-HD.jpg\",\"hash\":\"48f502e45c4c78a409c2c63bd2db1226\",\"ext\":\".jpg\",\"mime\":\"image/jpeg\",\"width\":1000,\"height\":563,\"size\":90.72,\"path\":null,\"url\":\"https://codewithharry.nyc3.cdn.digitaloceanspaces.com/assets/48f502e45c4c78a409c2c63bd2db1226.jpg\"},\"medium\":{\"name\":\"medium_7Dh73z3icd8-HD.jpg\",\"hash\":\"d49b316813748a9dae8f7ab0411d9fb6\",\"ext\":\".jpg\",\"mime\":\"image/jpeg\",\"width\":750,\"height\":422,\"size\":59.61,\"path\":null,\"url\":\"https://codewithharry.nyc3.cdn.digitaloceanspaces.com/assets/d49b316813748a9dae8f7ab0411d9fb6.jpg\"},\"small\":{\"name\":\"small_7Dh73z3icd8-HD.jpg\",\"hash\":\"bced621bf18266ea683bfb0a7bca0588\",\"ext\":\".jpg\",\"mime\":\"image/jpeg\",\"width\":500,\"height\":281,\"size\":33.05,\"path\":null,\"url\":\"https://codewithharry.nyc3.cdn.digitaloceanspaces.com/assets/bced621bf18266ea683bfb0a7bca0588.jpg\"}},\"provider\":\"do\",\"related\":[\"61bf15cbb26eda2ecc384c97\"],\"createdAt\":\"2021-12-20T02:48:05.802Z\",\"updatedAt\":\"2021-12-20T02:54:10.243Z\",\"__v\":0,\"id\":\"61bfeee59c378500110f7b92\"}],\"_id\":\"61bf15cbb26eda2ecc384c97\",\"title\":\"C Language Tutorials For Beginners\",\"ytplaylistid\":\"PLu0W_9lII9aiXlHcLx-mDH1Qul38wD3aR\",\"description\":\"Even if you don't know the ABC of coding, start this course, and I can assure you that you'll be an intermediate-level coder after completion. Get started with C language.\",\"firstSlug\":\"c-language-tutorials-in-hindi-1\",\"published_at\":\"2021-12-19T11:21:47.254Z\",\"createdAt\":\"2021-12-19T11:21:47.258Z\",\"updatedAt\":\"2021-12-20T09:03:11.449Z\",\"__v\":0,\"order\":3,\"id\":\"61bf15cbb26eda2ecc384c97\"}]},\"__N_SSG\":true},\"page\":\"/\",\"query\":{},\"buildId\":\"YnueEnNo1dlkF92YI3NRh\",\"isFallback\":false,\"gsp\":true,\"scriptLoader\":[]}</script></body></html>>\n"
     ]
    }
   ],
   "source": [
    "print(soup.prettify)"
   ]
  },
  {
   "cell_type": "markdown",
   "id": "54d4ae7d",
   "metadata": {},
   "source": [
    "Step3: Tree Traversal"
   ]
  },
  {
   "cell_type": "code",
   "execution_count": 12,
   "id": "f123d937",
   "metadata": {},
   "outputs": [
    {
     "name": "stdout",
     "output_type": "stream",
     "text": [
      "<title>Home | CodeWithHarry</title>\n",
      "<class 'bs4.element.Tag'>\n",
      "<class 'bs4.element.NavigableString'>\n"
     ]
    }
   ],
   "source": [
    "#Commonly used type of objects\n",
    "title= soup.title\n",
    "print(title)             # 1.Tag\n",
    "print(type(title))        # 2. NavigableString\n",
    "print(type(title.string))   #3. BeautifulSoup"
   ]
  },
  {
   "cell_type": "code",
   "execution_count": 13,
   "id": "a6287d4d",
   "metadata": {},
   "outputs": [],
   "source": [
    "#Get the title of html page\n",
    "title= soup.title"
   ]
  },
  {
   "cell_type": "code",
   "execution_count": 14,
   "id": "d268cc97",
   "metadata": {},
   "outputs": [],
   "source": [
    "#Get the paragraphs of the page\n",
    "paragraphs= soup.find_all('p')\n",
    "#print(paragraphs)\n"
   ]
  },
  {
   "cell_type": "code",
   "execution_count": 15,
   "id": "0ce0040a",
   "metadata": {},
   "outputs": [
    {
     "name": "stdout",
     "output_type": "stream",
     "text": [
      "<p class=\"mt-2 text-sm text-gray-500 md:text-base\">Confused on which course to take? I have got you covered. Browse courses and find out the best course for you. Its free! Code With Harry is my attempt to teach basics and those coding techniques to people in short time which took me ages to learn.</p>\n",
      "['mt-2', 'text-sm', 'text-gray-500', 'md:text-base']\n"
     ]
    }
   ],
   "source": [
    "print(soup.find('p'))  #getting the first paragraph/element\n",
    "\n",
    "print(soup.find('p')['class'])  #getting classes of any html page"
   ]
  },
  {
   "cell_type": "code",
   "execution_count": 16,
   "id": "f7abc6dc",
   "metadata": {},
   "outputs": [
    {
     "name": "stdout",
     "output_type": "stream",
     "text": [
      "[]\n"
     ]
    }
   ],
   "source": [
    "#find all the elements with class lead\n",
    "print(soup.find_all(\"p\",class_=\"lead\"))"
   ]
  },
  {
   "cell_type": "code",
   "execution_count": 17,
   "id": "c8680906",
   "metadata": {},
   "outputs": [
    {
     "name": "stdout",
     "output_type": "stream",
     "text": [
      "Confused on which course to take? I have got you covered. Browse courses and find out the best course for you. Its free! Code With Harry is my attempt to teach basics and those coding techniques to people in short time which took me ages to learn.\n"
     ]
    }
   ],
   "source": [
    "#Get the text from the tags/soup\n",
    "print(soup.find('p').get_text())\n"
   ]
  },
  {
   "cell_type": "code",
   "execution_count": 18,
   "id": "edcc6097",
   "metadata": {},
   "outputs": [
    {
     "name": "stdout",
     "output_type": "stream",
     "text": [
      "https://codewithharry.com/\n",
      "https://codewithharry.com/\n",
      "https://codewithharry.com/videos/\n",
      "https://codewithharry.com/blog/\n",
      "https://codewithharry.com/contact/\n",
      "https://codewithharry.com/videos/react-tutorials-in-hindi-1/\n",
      "https://codewithharry.com/videos/data-structures-and-algorithms-in-hindi-1/\n",
      "https://codewithharry.com/videos/c-language-tutorials-in-hindi-1/\n",
      "https://codewithharry.comhttps://www.facebook.com/CodeWithHarry/\n",
      "https://codewithharry.comhttps://www.instagram.com/CodeWithHarry/\n"
     ]
    }
   ],
   "source": [
    "#Get the anchor tags of the page\n",
    "anchors= soup.find_all('a')\n",
    "#print(anchors)\n",
    "\n",
    "all_links = set()  #created a set because the element will not repeat in it\n",
    "for link in anchors:\n",
    "    if(link!= '#'):\n",
    "        linkText= \"https://codewithharry.com\"+link.get('href')\n",
    "        all_links.add(linkText)\n",
    "        print(linkText)\n",
    "        "
   ]
  },
  {
   "cell_type": "code",
   "execution_count": null,
   "id": "9484dd1b",
   "metadata": {},
   "outputs": [],
   "source": []
  }
 ],
 "metadata": {
  "kernelspec": {
   "display_name": "Python 3",
   "language": "python",
   "name": "python3"
  },
  "language_info": {
   "codemirror_mode": {
    "name": "ipython",
    "version": 3
   },
   "file_extension": ".py",
   "mimetype": "text/x-python",
   "name": "python",
   "nbconvert_exporter": "python",
   "pygments_lexer": "ipython3",
   "version": "3.8.8"
  }
 },
 "nbformat": 4,
 "nbformat_minor": 5
}
